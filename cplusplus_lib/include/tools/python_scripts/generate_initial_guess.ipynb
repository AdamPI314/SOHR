{
 "metadata": {
  "name": "",
  "signature": "sha256:47ee951d83ec6f8afd7a0670eeef4475f2e91a1f44f0581b782d8f808fc65559"
 },
 "nbformat": 3,
 "nbformat_minor": 0,
 "worksheets": [
  {
   "cells": [
    {
     "cell_type": "code",
     "collapsed": false,
     "input": [
      "import sys\n",
      "import os\n",
      "import numpy as np\n",
      "import scipy as sp\n",
      "import pandas as pd\n",
      "import matplotlib.pylab as plt\n",
      "import re\n",
      "import subprocess\n",
      "import matplotlib"
     ],
     "language": "python",
     "metadata": {},
     "outputs": [],
     "prompt_number": 1
    },
    {
     "cell_type": "code",
     "collapsed": false,
     "input": [
      "file_dir= \"/home/invictus/Documents/eclipse/RxnNetwork_TDDM_alpha_10.7\""
     ],
     "language": "python",
     "metadata": {},
     "outputs": [],
     "prompt_number": 2
    },
    {
     "cell_type": "markdown",
     "metadata": {},
     "source": [
      "# LSODE concentration of $H_2O_2$\n",
      "* $H_2O_2$"
     ]
    },
    {
     "cell_type": "code",
     "collapsed": false,
     "input": [
      "conc_time_filename=os.path.join(file_dir, \"output_back\", \"time.csv\")\n",
      "conc_filename= os.path.join(file_dir, \"output_back\", \"concentration.csv\")\n",
      "conc_time_data= np.loadtxt(conc_time_filename)\n",
      "print np.shape(conc_time_data)\n",
      "conc_data= np.loadtxt(conc_filename)\n",
      "print np.shape(conc_data)"
     ],
     "language": "python",
     "metadata": {},
     "outputs": [
      {
       "output_type": "stream",
       "stream": "stdout",
       "text": [
        "(100000,)\n",
        "(100000, 4)"
       ]
      },
      {
       "output_type": "stream",
       "stream": "stdout",
       "text": [
        "\n"
       ]
      }
     ],
     "prompt_number": 3
    },
    {
     "cell_type": "code",
     "collapsed": false,
     "input": [],
     "language": "python",
     "metadata": {},
     "outputs": []
    }
   ],
   "metadata": {}
  }
 ]
}