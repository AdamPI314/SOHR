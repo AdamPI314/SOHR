{
 "metadata": {
  "name": "",
  "signature": "sha256:dfd1544ad5c24a15346e83c2286e92a4e5dc538ca602cd879539193ba96526b2"
 },
 "nbformat": 3,
 "nbformat_minor": 0,
 "worksheets": [
  {
   "cells": [
    {
     "cell_type": "code",
     "collapsed": false,
     "input": [
      "import sys\n",
      "import os\n",
      "import numpy as np\n",
      "import scipy as sp\n",
      "import pandas as pd\n",
      "import matplotlib.pylab as plt\n",
      "import re\n",
      "import subprocess\n",
      "import matplotlib"
     ],
     "language": "python",
     "metadata": {},
     "outputs": [],
     "prompt_number": 1
    },
    {
     "cell_type": "code",
     "collapsed": false,
     "input": [
      "file_dir= \"/home/invictus/Documents/eclipse/RxnNetwork_TDDM_alpha_10.9\""
     ],
     "language": "python",
     "metadata": {},
     "outputs": [],
     "prompt_number": 2
    },
    {
     "cell_type": "markdown",
     "metadata": {},
     "source": [
      "# LSODE concentration of $H_2O_2$\n",
      "* $H_2O_2$"
     ]
    },
    {
     "cell_type": "markdown",
     "metadata": {},
     "source": [
      "* ignition delay time"
     ]
    },
    {
     "cell_type": "code",
     "collapsed": false,
     "input": [
      "conc_time_filename=os.path.join(file_dir, \"output_back\", \"time.csv\")\n",
      "conc_filename= os.path.join(file_dir, \"output_back\", \"concentration.csv\")\n",
      "conc_time_data= np.loadtxt(conc_time_filename)\n",
      "print np.shape(conc_time_data)\n",
      "conc_data= np.loadtxt(conc_filename)\n",
      "print np.shape(conc_data)"
     ],
     "language": "python",
     "metadata": {},
     "outputs": [
      {
       "output_type": "stream",
       "stream": "stdout",
       "text": [
        "(100000,)\n",
        "(100000, 4)"
       ]
      },
      {
       "output_type": "stream",
       "stream": "stdout",
       "text": [
        "\n"
       ]
      }
     ],
     "prompt_number": 3
    },
    {
     "cell_type": "markdown",
     "metadata": {},
     "source": [
      "# plot concentration, 4 species for Lotka Volterra Model\n",
      "* haha"
     ]
    },
    {
     "cell_type": "code",
     "collapsed": false,
     "input": [
      "fig, ax=plt.subplots(1, 1, sharex= True)\n",
      "\n",
      "###############################################################################################################\n",
      "const_N= np.shape(conc_data)[1]\n",
      "colors= matplotlib.cm.rainbow(np.linspace(0, 1, const_N+1)); icounter=0\n",
      "name=[\"A\", \"X\", \"Y\", \"B\"]\n",
      "\n",
      "for i in xrange(0, const_N, 1):\n",
      "    ax.plot(conc_time_data, conc_data[:,i], \"-\", linewidth= 3.0, markersize=5.0, color=colors[icounter], label=name[i]); icounter+=1\n",
      "\n",
      "ax.ticklabel_format(axis=\"y\", style=\"sci\", scilimits=(-2,2))\n",
      "\n",
      "ax.set_xlabel(\"time/s\")\n",
      "ax.set_ylabel(\"[X]\")\n",
      "ax.set_title(\"[X] versus time\")\n",
      "ax.grid(True)\n",
      "ax.legend(loc= 2)\n",
      "\n",
      "plt.show()\n",
      "# print fig.get_size_inches()\n",
      "fig.savefig(os.path.join(file_dir, \"output\", \"Lotka_Volterra_v1.jpg\"), bbox_inches='tight', dpi=1000)\n",
      "plt.close(fig)"
     ],
     "language": "python",
     "metadata": {},
     "outputs": [
      {
       "metadata": {},
       "output_type": "display_data",
       "png": "[encoded data removed]",
       "text": [
        "<matplotlib.figure.Figure at 0x7ff27f335a90>"
       ]
      }
     ],
     "prompt_number": 4
    },
    {
     "cell_type": "markdown",
     "metadata": {},
     "source": [
      "# plot result from pathway based iteration method\n",
      "* haha"
     ]
    },
    {
     "cell_type": "code",
     "collapsed": false,
     "input": [],
     "language": "python",
     "metadata": {},
     "outputs": [],
     "prompt_number": 4
    }
   ],
   "metadata": {}
  }
 ]
}