{
 "metadata": {
  "name": "",
  "signature": "sha256:b224a1d7574a8af58ff729b317d44a7fbd80d2ab287a20fb68c548c554399781"
 },
 "nbformat": 3,
 "nbformat_minor": 0,
 "worksheets": []
}