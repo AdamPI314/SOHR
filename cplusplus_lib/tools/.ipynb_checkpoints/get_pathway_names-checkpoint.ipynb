{
 "metadata": {
  "name": "",
  "signature": "sha256:f479b50b70da1110b422d814cfa9b44d4587605fd8920f1cae16f82c80bc833c"
 },
 "nbformat": 3,
 "nbformat_minor": 0,
 "worksheets": [
  {
   "cells": [
    {
     "cell_type": "code",
     "collapsed": false,
     "input": [
      "import os\n",
      "import numpy as np\n",
      "import sys\n",
      "import pandas as pd"
     ],
     "language": "python",
     "metadata": {},
     "outputs": [],
     "prompt_number": 1
    },
    {
     "cell_type": "code",
     "collapsed": false,
     "input": [
      "file_dir= \"/home/invictus/Documents/eclipse/RxnNetwork_TDDM_alpha_12.8\""
     ],
     "language": "python",
     "metadata": {},
     "outputs": [],
     "prompt_number": 2
    },
    {
     "cell_type": "code",
     "collapsed": false,
     "input": [
      "Ntop= 10000"
     ],
     "language": "python",
     "metadata": {},
     "outputs": [],
     "prompt_number": 3
    },
    {
     "cell_type": "markdown",
     "metadata": {},
     "source": [
      "# pathway_name.csv\n",
      "* pathway name"
     ]
    },
    {
     "cell_type": "code",
     "collapsed": false,
     "input": [
      "filename_in= os.path.join(file_dir, \"output\", \"pathway_stat.csv\")\n",
      "filename_pathway_name= os.path.join(file_dir, \"input\", \"pathway_name.csv\")\n",
      "\n",
      "pathway_data= pd.read_csv(filename_in, delimiter=\",\", names= [\"pathway\", \"number\"])\n",
      "# #normalization\n",
      "pathway_data[\"number\"]=pathway_data[\"number\"]*1.0/sum(pathway_data[\"number\"])\n",
      "# #select columns needed\n",
      "pathway_needed= pathway_data[[\"pathway\", \"number\"]]\n",
      "pw_all= pathway_needed[0:Ntop]\n",
      "pw_all[[\"pathway\"]].to_csv(filename_pathway_name, sep='\\t', encoding='utf-8', index=False, \\\n",
      "                                     header=False, mode='w', float_format='%e')"
     ],
     "language": "python",
     "metadata": {},
     "outputs": [],
     "prompt_number": 4
    },
    {
     "cell_type": "markdown",
     "metadata": {},
     "source": [
      "#pathway_time.csv\n",
      "* Ntop pathways\n",
      "* Ntime, number of time points"
     ]
    },
    {
     "cell_type": "code",
     "collapsed": false,
     "input": [
      "N1=10; N2=10; CT=0.8\n",
      "Ntime= N1+N2\n",
      "Tpoints=[None]*Ntime\n",
      "for i in xrange(N1):\n",
      "    Tpoints[i]=CT/N1*(i+1)\n",
      "for i in xrange(N1, Ntime):\n",
      "    Tpoints[i]=(1-CT)/N2*(i-N1+1)+CT\n",
      "# print Tpoints\n",
      "\n",
      "filename_pathway_time= os.path.join(file_dir, \"input\", \"pathway_time.csv\")\n",
      "with open(filename_pathway_time, \"w\") as fpt:\n",
      "    for i in xrange(0,Ntop):\n",
      "        for j in xrange(0,Ntime):\n",
      "            fpt.write(str(Tpoints[j]))\n",
      "            if (j+1)<Ntime:\n",
      "                fpt.write(\",\")\n",
      "            else:\n",
      "                fpt.write(\"\\n\")                "
     ],
     "language": "python",
     "metadata": {},
     "outputs": [],
     "prompt_number": 5
    },
    {
     "cell_type": "code",
     "collapsed": false,
     "input": [],
     "language": "python",
     "metadata": {},
     "outputs": [],
     "prompt_number": 5
    }
   ],
   "metadata": {}
  }
 ]
}