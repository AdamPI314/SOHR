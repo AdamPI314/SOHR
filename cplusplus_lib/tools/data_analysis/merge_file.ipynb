{
 "worksheets": [
  {
   "cells": [
    {
     "cell_type": "code",
     "execution_count": null,
     "metadata": {},
     "outputs": [],
     "input": [
      "import os\n",
      "import sys\n",
      "import re\n",
      "import numpy as np\n",
      "import pandas as pd\n",
      "import scipy as sp\n",
      "import matplotlib.pyplot as plt\n",
      "import shutil"
     ],
     "language": "python",
     "prompt_number": 1
    },
    {
     "cell_type": "code",
     "execution_count": null,
     "metadata": {},
     "outputs": [
      {
       "stream": "stdout",
       "output_type": "stream",
       "text": [
        "d:\\documents\\documents_to_research\\summer_2013_argonne\\tddm_var_alpha_mar_27_11_28_22_2014_pp_merge\n"
       ]
      }
     ],
     "input": [
      "file_dir= os.path.abspath(os.path.join(os.path.realpath(sys.argv[0]), os.pardir, os.pardir, os.pardir))\n",
      "print file_dir"
     ],
     "language": "python",
     "prompt_number": 2
    },
    {
     "cell_type": "code",
     "execution_count": null,
     "metadata": {},
     "outputs": [],
     "input": [
      "# file_dir1= \"/home/invictus/Documents/Summer_2013_Argonne/DATA_WORKDIR/TDDM_var_alpha_Mar_25_13_36_07_2014_PP\"\n",
      "# file_dir2= \"/home/invictus/Documents/Summer_2013_Argonne/DATA_WORKDIR/TDDM_var_alpha_Mar_25_10_15_51_2014_PP\"\n",
      "file_dir1= \"D:\\Documents\\Documents_to_research\\Summer_2013_Argonne\\TDDM_var_alpha_Mar_25_13_36_07_2014_PP\"\n",
      "file_dir2= \"D:\\Documents\\Documents_to_research\\Summer_2013_Argonne\\TDDM_var_alpha_Mar_25_10_15_51_2014_PP\""
     ],
     "language": "python",
     "prompt_number": 4
    },
    {
     "cell_type": "markdown",
     "metadata": {},
     "source": [
      "# copy from file_dir2 to file_dir\n",
      "* check whether file_dir contains the files gonna to be transfered"
     ]
    },
    {
     "cell_type": "code",
     "execution_count": null,
     "metadata": {},
     "outputs": [],
     "input": [
      "for filename in os.listdir(os.path.join(file_dir, \"output\")):\n",
      "    if not filename.find(\"_1\")==-1:\n",
      "        os.remove(os.path.join(file_dir, \"output\", filename))\n",
      "        \n",
      "for filename in os.listdir(os.path.join(file_dir1, \"output\")):\n",
      "    shutil.copyfile(os.path.join(file_dir1, \"output\", filename), \\\n",
      "                    os.path.join(file_dir, \"output\", filename.split(\".\")[0]+\"_1.\"+filename.split(\".\")[1]))"
     ],
     "language": "python",
     "prompt_number": 6
    },
    {
     "cell_type": "markdown",
     "metadata": {},
     "source": [
      "# copy from file_dir2 to file_dir\n",
      "* check whether file_dir contains the files gonna to be transfered"
     ]
    },
    {
     "cell_type": "code",
     "execution_count": null,
     "metadata": {},
     "outputs": [],
     "input": [
      "for filename in os.listdir(os.path.join(file_dir, \"output\")):\n",
      "    if not filename.find(\"_2\")==-1:\n",
      "        os.remove(os.path.join(file_dir, \"output\", filename))\n",
      "        \n",
      "for filename in os.listdir(os.path.join(file_dir2, \"output\")):\n",
      "    shutil.copyfile(os.path.join(file_dir2, \"output\", filename), \\\n",
      "                    os.path.join(file_dir, \"output\", filename.split(\".\")[0]+\"_2.\"+filename.split(\".\")[1]))"
     ],
     "language": "python",
     "prompt_number": 7
    },
    {
     "cell_type": "markdown",
     "metadata": {},
     "source": [
      "* delete file whoes name contains \"_3\" and \"_4\""
     ]
    },
    {
     "cell_type": "code",
     "execution_count": null,
     "metadata": {},
     "outputs": [],
     "input": [
      "for filename in os.listdir(os.path.join(file_dir, \"output\")):\n",
      "    if (not filename.find(\"_3\")==-1) or (not filename.find(\"_4\")==-1) :\n",
      "        os.remove(os.path.join(file_dir, \"output\", filename))"
     ],
     "language": "python",
     "prompt_number": 8
    },
    {
     "cell_type": "markdown",
     "metadata": {},
     "source": [
      "# re-index \"_2\" file if needed\n",
      "* filename of files need to be re-index"
     ]
    },
    {
     "cell_type": "code",
     "execution_count": null,
     "metadata": {},
     "outputs": [
      {
       "stream": "stdout",
       "output_type": "stream",
       "text": [
        "824\n",
        "['pathway_all_1.csv', 'pathway_H2O_1.csv', 'pathway_HO2_1.csv']\n",
        "['pathway_all_2.csv', 'pathway_H2O_2.csv', 'pathway_HO2_2.csv']\n",
        "['pathway_all_3.csv', 'pathway_H2O_3.csv', 'pathway_HO2_3.csv']\n"
       ]
      }
     ],
     "input": [
      "# source files 1\n",
      "filename_src1=[]\n",
      "for filename in os.listdir(os.path.join(file_dir, \"output\")):\n",
      "    if (not filename.find(\"_1\")==-1) and (not filename.find(\"pathway\")==-1) and (not filename.find(\"csv\")==-1):\n",
      "        filename_src1.append(filename)\n",
      "\n",
      "file_t= pd.read_csv(os.path.join(file_dir, \"output\", filename_src1[0]), delimiter= \"\\t\", names= [\"pathway\", \"number\"])\n",
      "mask = file_t.pathway.str.contains(\"#\")\n",
      "MaxIndex= file_t[mask].tail(1).pathway.str.replace(\"#\", \"\").tolist()[0]\n",
      "MaxIndex= int(MaxIndex)+1\n",
      "print MaxIndex\n",
      "print filename_src1\n",
      "\n",
      "# source files 2\n",
      "filename_src2=map(lambda x:x.replace(\"1\", \"2\"), filename_src1)\n",
      "print filename_src2\n",
      "\n",
      "# source files 3\n",
      "filename_src3= map(lambda x:x.replace(\"1\", \"3\"), filename_src1)\n",
      "print filename_src3\n",
      "\n",
      "# write index-updated files 2 into files 3\n",
      "for i in xrange(len(filename_src2)):\n",
      "    file_t= file_t= pd.read_csv(os.path.join(file_dir, \"output\", filename_src2[i]), \\\n",
      "                                delimiter= \"\\t\", names= [\"pathway\", \"number\"])\n",
      "    mask = file_t.pathway.str.contains(\"#\")    \n",
      "    file_t.loc[mask, \"pathway\"] =file_t.loc[mask, \"pathway\"].map(lambda x: \"#\"+str(int(x.split(\"#\")[1])+MaxIndex))\n",
      "    file_t.to_csv(os.path.join(file_dir, \"output\", filename_src3[i]), encoding='utf-8', index= False, sep=\"\\t\", header=False)"
     ],
     "language": "python",
     "prompt_number": 9
    },
    {
     "cell_type": "markdown",
     "metadata": {},
     "source": [
      "# other src files that have no need to re-index\n",
      "* no re-index\n",
      "* file name"
     ]
    },
    {
     "cell_type": "code",
     "execution_count": null,
     "metadata": {},
     "outputs": [
      {
       "stream": "stdout",
       "output_type": "stream",
       "text": [
        "['conc_error_1.csv', 'general_output_1.out', 'pathway_stat_1.dat', 'pathway_stat_conc_1.dat', 'species_reaction_labelling_1.dat', 'target_time_1.csv', 'target_time_1.dat', 'temperature_targeted_conc_1.dat', 'uncertainties_random_1.out', 'uncertainties_random_all_1.out']\n",
        "['conc_error_2.csv', 'general_output_2.out', 'pathway_stat_2.dat', 'pathway_stat_conc_2.dat', 'species_reaction_labelling_2.dat', 'target_time_2.csv', 'target_time_2.dat', 'temperature_targeted_conc_2.dat', 'uncertainties_random_2.out', 'uncertainties_random_all_2.out']\n"
       ]
      }
     ],
     "input": [
      "# other src file 1\n",
      "filename_src_other_1=[]\n",
      "for filename in os.listdir(os.path.join(file_dir, \"output\")):\n",
      "    if (not filename.find(\"_1\")==-1) and (filename.find(\"csv\")==-1 or filename.find(\"pathway\")==-1):\n",
      "        filename_src_other_1.append(filename)\n",
      "print filename_src_other_1\n",
      "\n",
      "# other src file 2\n",
      "filename_src_other_2= map(lambda x: x.replace(\"_1\", \"_2\"), filename_src_other_1)\n",
      "print filename_src_other_2"
     ],
     "language": "python",
     "prompt_number": 10
    },
    {
     "cell_type": "markdown",
     "metadata": {},
     "source": [
      "* merge file"
     ]
    },
    {
     "cell_type": "code",
     "execution_count": null,
     "metadata": {},
     "outputs": [
      {
       "stream": "stdout",
       "output_type": "stream",
       "text": [
        "pathway_all_1.csv pathway_all_3.csv pathway_all_4.csv\n",
        "pathway_H2O_1.csv"
       ]
      },
      {
       "stream": "stdout",
       "output_type": "stream",
       "text": [
        " pathway_H2O_3.csv pathway_H2O_4.csv\n",
        "pathway_HO2_1.csv"
       ]
      },
      {
       "stream": "stdout",
       "output_type": "stream",
       "text": [
        " pathway_HO2_3.csv pathway_HO2_4.csv\n",
        "conc_error_1.csv"
       ]
      },
      {
       "stream": "stdout",
       "output_type": "stream",
       "text": [
        " conc_error_2.csv conc_error_4.csv\n",
        "general_output_1.out general_output_2.out general_output_4.out\n",
        "pathway_stat_1.dat pathway_stat_2.dat pathway_stat_4.dat\n",
        "pathway_stat_conc_1.dat pathway_stat_conc_2.dat pathway_stat_conc_4.dat\n",
        "species_reaction_labelling_1.dat species_reaction_labelling_2.dat species_reaction_labelling_4.dat\n",
        "target_time_1.csv target_time_2.csv target_time_4.csv\n",
        "target_time_1.dat target_time_2.dat target_time_4.dat\n",
        "temperature_targeted_conc_1.dat temperature_targeted_conc_2.dat temperature_targeted_conc_4.dat\n",
        "uncertainties_random_1.out uncertainties_random_2.out uncertainties_random_4.out\n",
        "uncertainties_random_all_1.out uncertainties_random_all_2.out uncertainties_random_all_4.out\n"
       ]
      }
     ],
     "input": [
      "def merge_files(in_file1, in_file2, out_file):\n",
      "    with open(out_file, \"w\") as outfile:\n",
      "        with open(in_file1, \"r\") as infile1:\n",
      "            for line1 in infile1:\n",
      "                outfile.write(line1)\n",
      "        with open(in_file2, \"r\") as infile2:\n",
      "            for line2 in infile2:\n",
      "                outfile.write(line2)\n",
      "\n",
      "for i in xrange(len(filename_src1)):\n",
      "    filename_t= filename_src1[i].replace(\"_1\", \"_4\")\n",
      "    print filename_src1[i], filename_src3[i], filename_t\n",
      "    merge_files(os.path.join(file_dir, \"output\", filename_src1[i]), \\\n",
      "                os.path.join(file_dir, \"output\", filename_src3[i]),\\\n",
      "                os.path.join(file_dir, \"output\", filename_t))\n",
      "for i in xrange(len(filename_src_other_1)):\n",
      "    filename_t= filename_src_other_1[i].replace(\"_1\", \"_4\")\n",
      "    print filename_src_other_1[i], filename_src_other_2[i], filename_t\n",
      "    merge_files(os.path.join(file_dir, \"output\", filename_src_other_1[i]), \\\n",
      "                os.path.join(file_dir, \"output\", filename_src_other_2[i]),\\\n",
      "                os.path.join(file_dir, \"output\", filename_t))"
     ],
     "language": "python",
     "prompt_number": 11
    },
    {
     "cell_type": "markdown",
     "metadata": {},
     "source": [
      "# delete files whose names contain \"_1.\", \"_2.\" or \"_3.\""
     ]
    },
    {
     "cell_type": "code",
     "execution_count": null,
     "metadata": {},
     "outputs": [],
     "input": [
      "for filename in os.listdir(os.path.join(file_dir, \"output\")):\n",
      "    if (not filename.find(\"_1.\")==-1) or (not filename.find(\"_2.\")==-1) or (not filename.find(\"_3.\")==-1):\n",
      "        os.remove(os.path.join(file_dir, \"output\", filename))"
     ],
     "language": "python",
     "prompt_number": 12
    },
    {
     "cell_type": "markdown",
     "metadata": {},
     "source": [
      "# rename files whose names contain \"_4\"\n",
      "* \"_4\""
     ]
    },
    {
     "cell_type": "code",
     "execution_count": null,
     "metadata": {},
     "outputs": [],
     "input": [
      "for filename in os.listdir(os.path.join(file_dir, \"output\")):\n",
      "    if not filename.find(\"_4\")==-1:\n",
      "        os.rename(os.path.join(file_dir, \"output\", filename), os.path.join(file_dir, \"output\", filename.replace(\"_4\", \"\")))"
     ],
     "language": "python",
     "prompt_number": 13
    }
   ]
  }
 ],
 "cells": [],
 "metadata": {
  "name": "merge_file.ipynb"
 },
 "nbformat": 4,
 "nbformat_minor": 0
}