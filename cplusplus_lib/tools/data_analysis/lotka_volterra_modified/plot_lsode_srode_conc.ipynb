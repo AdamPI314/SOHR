{
 "worksheets": [
  {
   "cells": [
    {
     "cell_type": "code",
     "execution_count": null,
     "metadata": {},
     "outputs": [],
     "input": [
      "import os\n",
      "import sys\n",
      "import matplotlib.pylab as plt\n",
      "import numpy as np"
     ],
     "language": "python",
     "prompt_number": 2
    },
    {
     "cell_type": "code",
     "execution_count": null,
     "metadata": {},
     "outputs": [
      {
       "output_type": "stream",
       "stream": "stdout",
       "text": [
        "/home/shirong/Documents/summer_2015_dalian/SRC_EXE_DIR/RxnNetwork_TDDM_alpha_17.12\n"
       ]
      }
     ],
     "input": [
      "file_dir= \"/home/shirong/Documents/summer_2015_dalian/SRC_EXE_DIR/RxnNetwork_TDDM_alpha_17.12\"\n",
      "print file_dir"
     ],
     "language": "python",
     "prompt_number": 3
    },
    {
     "cell_type": "markdown",
     "metadata": {},
     "source": [
      "# import data\n",
      "* import data"
     ]
    },
    {
     "cell_type": "code",
     "execution_count": null,
     "metadata": {},
     "outputs": [
      {
       "output_type": "stream",
       "stream": "stdout",
       "text": [
        "(40001,)\n",
        "(40001, 4)"
       ]
      },
      {
       "output_type": "stream",
       "stream": "stdout",
       "text": [
        "\n",
        "(40001, 4)"
       ]
      },
      {
       "output_type": "stream",
       "stream": "stdout",
       "text": [
        "\n"
       ]
      }
     ],
     "input": [
      "#time\n",
      "time= np.loadtxt(os.path.join(file_dir, \"output\", \"time.csv\"))\n",
      "print np.shape(time)\n",
      "\n",
      "#conc\n",
      "conc= np.loadtxt(os.path.join(file_dir, \"output\", \"concentration.csv\"))\n",
      "print np.shape(conc)\n",
      "\n",
      "#conc from srode solution\n",
      "conc_srode= np.loadtxt(os.path.join(file_dir, \"output\", \"concentration_srode.csv\"))\n",
      "print np.shape(conc_srode)"
     ],
     "language": "python",
     "prompt_number": 8
    },
    {
     "cell_type": "code",
     "execution_count": null,
     "metadata": {},
     "outputs": [],
     "input": [
      "fig, ax= plt.subplots(1, 1, sharex=False, sharey= True)\n",
      "\n",
      "ax.plot(time, conc[:,0], '--', linewidth= 1.0, label= 'lsode A')\n",
      "ax.plot(time, conc[:,1], '--', linewidth= 1.0, label= 'lsode X')\n",
      "ax.plot(time, conc[:,2], '--', linewidth= 1.0, label= 'lsode Y')\n",
      "ax.plot(time, conc[:,3], '--', linewidth= 1.0, label= 'lsode B')\n",
      "\n",
      "\n",
      "ax.plot(time, conc_srode[:,0], '-', linewidth= 1.0, label= 'lsode A')\n",
      "ax.plot(time, conc_srode[:,1], '-', linewidth= 1.0, label= 'lsode X')\n",
      "ax.plot(time, conc_srode[:,2], '-', linewidth= 1.0, label= 'lsode Y')\n",
      "ax.plot(time, conc_srode[:,3], '-', linewidth= 1.0, label= 'lsode B')\n",
      "\n",
      "ax.legend(loc=2, prop={'size':8.0})\n",
      "# plt.show()\n",
      "\n",
      "fig.savefig(os.path.join(file_dir, \"output\", \"lsode_srode_conc.jpg\"), dpi=500)\n",
      "plt.close()"
     ],
     "language": "python",
     "prompt_number": 39
    },
    {
     "cell_type": "code",
     "execution_count": null,
     "metadata": {},
     "outputs": [],
     "input": [
      ""
     ],
     "language": "python",
     "prompt_number": 30
    },
    {
     "cell_type": "code",
     "execution_count": null,
     "metadata": {},
     "outputs": [],
     "input": [
      ""
     ],
     "language": "python"
    }
   ]
  }
 ],
 "cells": [],
 "metadata": {
  "name": "plot_lsode_srode_conc.ipynb"
 },
 "nbformat": 3,
 "nbformat_minor": 0
}