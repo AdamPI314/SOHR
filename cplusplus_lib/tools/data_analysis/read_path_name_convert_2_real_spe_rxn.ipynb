{
 "metadata": {
  "name": "",
  "signature": "sha256:faf42beeb5c6d1e9441c68b8828e6212f16910bf7a8a26403dd66e7341677441"
 },
 "nbformat": 3,
 "nbformat_minor": 0,
 "worksheets": [
  {
   "cells": [
    {
     "cell_type": "code",
     "collapsed": false,
     "input": [
      "import pandas as pd\n",
      "import numpy as np\n",
      "import sys\n",
      "import re\n",
      "import os\n",
      "import parse_spe_reaction_info as psri"
     ],
     "language": "python",
     "metadata": {},
     "outputs": [],
     "prompt_number": 1
    },
    {
     "cell_type": "code",
     "collapsed": false,
     "input": [
      "file_dir= os.path.realpath(os.path.join(sys.argv[0], os.pardir, os.pardir, os.pardir))\n",
      "print file_dir"
     ],
     "language": "python",
     "metadata": {},
     "outputs": [
      {
       "output_type": "stream",
       "stream": "stdout",
       "text": [
        "/home/invictus/Documents/spring_2015_boulder/SRC_EXE_DIR/RxnNetwork_TDDM_alpha_16.0\n"
       ]
      }
     ],
     "prompt_number": 2
    },
    {
     "cell_type": "markdown",
     "metadata": {},
     "source": [
      "* pathway filename"
     ]
    },
    {
     "cell_type": "code",
     "collapsed": false,
     "input": [
      "filename_p= os.path.join(file_dir, \"output\", \"pathway_stat.csv\")"
     ],
     "language": "python",
     "metadata": {},
     "outputs": [],
     "prompt_number": 3
    },
    {
     "cell_type": "markdown",
     "metadata": {},
     "source": [
      "* load data"
     ]
    },
    {
     "cell_type": "code",
     "collapsed": false,
     "input": [
      "path_data= pd.read_csv(filename_p, names=['path', 'prob'])\n",
      "print path_data.head()"
     ],
     "language": "python",
     "metadata": {},
     "outputs": [
      {
       "output_type": "stream",
       "stream": "stdout",
       "text": [
        "                                      path    prob\n",
        "0                                     S114  313369\n",
        "1                    S114R1424S116R1518S46   37100\n",
        "2                   S114R1422S124R1632S119   16418\n",
        "3                   S114R1428S118R1532S106   15622\n",
        "4  S114R1424S125R1650S144R1734S154R1748S69   14489\n"
       ]
      }
     ],
     "prompt_number": 4
    },
    {
     "cell_type": "markdown",
     "metadata": {},
     "source": [
      "* renormalize path probability"
     ]
    },
    {
     "cell_type": "code",
     "collapsed": false,
     "input": [
      "total_prob= sum(path_data['prob'])\n",
      "# map will return a new array, will not change the value of pandas frame in situ\n",
      "# map(lambda x:x/total_prob, path_data['prob'])\n",
      "path_data['prob']/=total_prob\n",
      "print path_data.head()"
     ],
     "language": "python",
     "metadata": {},
     "outputs": [
      {
       "output_type": "stream",
       "stream": "stdout",
       "text": [
        "                                      path      prob\n",
        "0                                     S114  0.313369\n",
        "1                    S114R1424S116R1518S46  0.037100\n",
        "2                   S114R1422S124R1632S119  0.016418\n",
        "3                   S114R1428S118R1532S106  0.015622\n",
        "4  S114R1424S125R1650S144R1734S154R1748S69  0.014489\n"
       ]
      }
     ],
     "prompt_number": 5
    },
    {
     "cell_type": "markdown",
     "metadata": {},
     "source": [
      "* parse species and reaction info"
     ]
    },
    {
     "cell_type": "code",
     "collapsed": false,
     "input": [
      "filename1= os.path.join(file_dir, \"output\", \"species_labelling.dat\")\n",
      "filename2= os.path.join(file_dir, \"output\", \"reaction_labelling.dat\")\n",
      "spe_ind_name_dict, spe_name_ind_dict= psri.parse_spe_info(filename1)\n",
      "old_new_index_dict, new_old_index_dict, new_ind_rxn_dict= psri.parse_rxn_and_its_index(filename2)"
     ],
     "language": "python",
     "metadata": {},
     "outputs": [],
     "prompt_number": 6
    },
    {
     "cell_type": "markdown",
     "metadata": {},
     "source": [
      "* convert path name to real species and reaction instead of index\n",
      "* use pandas map function"
     ]
    },
    {
     "cell_type": "code",
     "collapsed": false,
     "input": [
      "print len(path_data)\n",
      "# use loc will change value in situ\n",
      "path_data['path']= path_data['path'].apply(lambda x:psri.PATH_to_real_spe_rxn(spe_ind_name_dict, new_ind_rxn_dict, x))"
     ],
     "language": "python",
     "metadata": {},
     "outputs": [
      {
       "output_type": "stream",
       "stream": "stdout",
       "text": [
        "54128\n"
       ]
      }
     ],
     "prompt_number": 7
    },
    {
     "cell_type": "code",
     "collapsed": false,
     "input": [
      "print path_data['path'][15]\n",
      "print path_data['path'][14]\n",
      "print path_data.head()"
     ],
     "language": "python",
     "metadata": {},
     "outputs": [
      {
       "output_type": "stream",
       "stream": "stdout",
       "text": [
        "[NC7H16] NC7H16+OH=>C7H15-1+H2O-->[C7H15-1] C7H15-1+CH3O2=>C7H15O-1+CH3O-->[C7H15O-1] C7H15O-1=>CH2O+C6H13-1-->[C6H13O2-1] C6H13O2-1=>C6H12-1+HO2-->[C6H12-1] \n",
        "[NC7H16] NC7H16+OH=>C7H15-3+H2O-->[C7H15-3] C7H15-3=>C4H8-1+NC3H7-->[NC3H7O2] NC3H7O2=>C3H6OOH-2,1-->[C3H6OOH-2] C3H6OOH-2,1=>C3H6+HO2-->[C3H6] \n",
        "                                                path      prob\n",
        "0                                          [NC7H16]   0.313369\n",
        "1  [NC7H16] NC7H16+OH=>C7H15-2+H2O-->[C7H15-2] C7...  0.037100\n",
        "2  [NC7H16] NC7H16+OH=>C7H15-1+H2O-->[C7H15O2-1] ...  0.016418\n",
        "3  [NC7H16] NC7H16+OH=>C7H15-4+H2O-->[C7H15-4] C7...  0.015622\n",
        "4  [NC7H16] NC7H16+OH=>C7H15-2+H2O-->[C7H15O2-2] ...  0.014489\n"
       ]
      }
     ],
     "prompt_number": 14
    },
    {
     "cell_type": "markdown",
     "metadata": {},
     "source": [
      "* write to csv file"
     ]
    },
    {
     "cell_type": "code",
     "collapsed": false,
     "input": [
      "filename_p_out= os.path.join(file_dir, \"output\", \"path_real_name_prob.csv\")\n",
      "path_data[0:100].to_csv(filename_p_out, header= False, index= False, sep= \";\", columns=['path', 'prob'])"
     ],
     "language": "python",
     "metadata": {},
     "outputs": [],
     "prompt_number": 19
    },
    {
     "cell_type": "markdown",
     "metadata": {},
     "source": [
      "* define a function"
     ]
    },
    {
     "cell_type": "code",
     "collapsed": false,
     "input": [
      "def read_pathname_convert_2_real_spe_rxn(filename_spe, filename_rxn, filename_p, filename_p_out, topN= 50):\n",
      "    #load path data\n",
      "    path_data= pd.read_csv(filename_p, names=['path', 'prob'])\n",
      "    total_prob= sum(path_data['prob'])\n",
      "    # map will return a new array, will not change the value of pandas frame in situ\n",
      "    # map(lambda x:x/total_prob, path_data['prob'])\n",
      "    # renormalize\n",
      "    path_data['prob']/=total_prob\n",
      "    \n",
      "    #load spe and reaction info\n",
      "    spe_ind_name_dict, spe_name_ind_dict= psri.parse_spe_info(filename_spe)\n",
      "    old_new_index_dict, new_old_index_dict, new_ind_rxn_dict= psri.parse_rxn_and_its_index(filename_rxn)\n",
      "    \n",
      "    #convert species reaction index to real species and reactions\n",
      "    path_data['path']= path_data['path'].apply(lambda x:psri.PATH_to_real_spe_rxn(spe_ind_name_dict, new_ind_rxn_dict, x))\n",
      "    \n",
      "    #write to file\n",
      "    path_data[0:topN].to_csv(filename_p_out, header= False, index= False, sep= \";\", columns=['path', 'prob'])"
     ],
     "language": "python",
     "metadata": {},
     "outputs": [],
     "prompt_number": 18
    },
    {
     "cell_type": "code",
     "collapsed": false,
     "input": [],
     "language": "python",
     "metadata": {},
     "outputs": [],
     "prompt_number": 10
    }
   ],
   "metadata": {}
  }
 ]
}