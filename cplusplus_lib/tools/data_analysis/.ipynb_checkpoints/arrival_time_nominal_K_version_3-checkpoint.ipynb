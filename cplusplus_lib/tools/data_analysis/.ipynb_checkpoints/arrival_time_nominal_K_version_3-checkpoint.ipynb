{
 "metadata": {
  "name": ""
 },
 "nbformat": 3,
 "nbformat_minor": 0,
 "worksheets": [
  {
   "cells": [
    {
     "cell_type": "code",
     "collapsed": false,
     "input": [
      "from scipy import stats\n",
      "import numpy as np\n",
      "import pandas as pd\n",
      "import matplotlib.pyplot as plt\n",
      "import os\n",
      "# import locale"
     ],
     "language": "python",
     "metadata": {},
     "outputs": [],
     "prompt_number": 1
    },
    {
     "cell_type": "markdown",
     "metadata": {},
     "source": [
      "# Import top 100 pathway and their prob at nominal K's\n",
      "* unertainty= random(1/uncertainty, uncertainty)"
     ]
    },
    {
     "cell_type": "code",
     "collapsed": false,
     "input": [
      "# read data as pandas frame object\n",
      "def load_top_100_pathway_at_nominal_K(file_name):\n",
      "    data= pd.read_csv(file_name, delimiter=\"\\t\", names=[\"pathway\", \"number\"])\n",
      "    pathway= data.pathway.tolist()\n",
      "    number= data.number.tolist()\n",
      "    return pathway, number\n",
      "\n",
      "file_dir= os.path.abspath(os.path.join(os.getcwd(), os.pardir, os.pardir))\n",
      "file_name= os.path.join(file_dir, \"input\", \"pathway_nominal_top_100.csv\")\n",
      "top_100_pathway, top_100_number= load_top_100_pathway_at_nominal_K(file_name)\n",
      "\n",
      "print top_100_pathway[0:5]\n",
      "print top_100_number[0:5]"
     ],
     "language": "python",
     "metadata": {},
     "outputs": [
      {
       "output_type": "stream",
       "stream": "stdout",
       "text": [
        "['S2', 'S2R4S1', 'S2R2S5R4S1', 'S2R4S4', 'S2R2S4']\n",
        "[0.6949892, 0.1432295, 0.02145978, 0.02136216, 0.01419078]\n"
       ]
      }
     ],
     "prompt_number": 2
    },
    {
     "cell_type": "markdown",
     "metadata": {},
     "source": [
      "# Import target time\n",
      "* target time"
     ]
    },
    {
     "cell_type": "code",
     "collapsed": false,
     "input": [
      "target_time=np.loadtxt(os.path.join(file_dir, \"output\",\"target_time.dat\"))\n",
      "print target_time"
     ],
     "language": "python",
     "metadata": {},
     "outputs": [
      {
       "output_type": "stream",
       "stream": "stdout",
       "text": [
        "0.006721068338\n"
       ]
      }
     ],
     "prompt_number": 3
    },
    {
     "cell_type": "markdown",
     "metadata": {},
     "source": [
      "# Reaction re-lebel\n",
      "* backward reaction labelled with labelling of forward reaction plus '*'"
     ]
    },
    {
     "cell_type": "code",
     "collapsed": false,
     "input": [
      "import re\n",
      "#reaction index re-label, backward reaction labelled with labelling of forward reaction plus '*'\n",
      "old_new_label={\"0\":\"0\", \"1\":\"0*\", \"2\":\"1\", \"3\":\"1*\", \"4\":\"2\", \"5\":\"2*\", \"6\":\"3\", \"7\":\"3*\", \"8\":\"4\", \"9\":\"4*\", \"10\":\"5\", \"11\":\"5*\"\\\n",
      "               , \"12\":\"6\", \"13\":\"6*\", \"14\":\"7\", \"15\":\"7*\", \"16\":\"8\", \"17\":\"8*\", \"18\":\"9\", \"19\":\"9*\", \"20\":\"10\", \"21\":\"10*\"\\\n",
      "               , \"22\":\"11\", \"23\":\"11*\", \"24\":\"12\", \"25\":\"12*\", \"26\":\"13\", \"27\":\"13*\", \"28\":\"14\", \"29\":\"14*\", \"30\":\"15\", \"31\":\"15*\"\\\n",
      "               , \"32\":\"16\", \"33\":\"16*\", \"34\":\"17\", \"35\":\"17*\", \"36\":\"19\", \"37\":\"19*\", \"38\":\"20\", \"39\":\"20*\", \"40\":\"21\", \"41\":\"21*\"\\\n",
      "               , \"42\":\"22\", \"43\":\"22*\", \"44\":\"23\", \"45\":\"23*\"}\n",
      "\n",
      "def dashrepl(matchobj):\n",
      "    return old_new_label[matchobj.group(0)]\n",
      "\n",
      "def re_label_index(in_str):\n",
      "    return re.sub(\"(?<=R)\\d+\", dashrepl, in_str)\n",
      "def replace_asterisk_with_underscore(in_str):\n",
      "    return in_str.replace(\"*\", \"_\")\n",
      "    \n",
      "print re_label_index(\"R2\")\n",
      "\n",
      "print re_label_index(top_100_pathway[1])\n",
      "print re_label_index(top_100_pathway[2])\n",
      "print re_label_index(top_100_pathway[3])\n",
      "print re_label_index(top_100_pathway[4])\n",
      "print re_label_index(top_100_pathway[5])\n",
      "print re_label_index(top_100_pathway[6])\n",
      "print re_label_index(top_100_pathway[7])\n",
      "print re_label_index(top_100_pathway[8])\n",
      "print re_label_index(top_100_pathway[9])\n",
      "print re_label_index(top_100_pathway[10])\n",
      "\n",
      "print replace_asterisk_with_underscore(re_label_index(top_100_pathway[1]))"
     ],
     "language": "python",
     "metadata": {},
     "outputs": [
      {
       "output_type": "stream",
       "stream": "stdout",
       "text": [
        "R1\n",
        "S2R2S1\n",
        "S2R1S5R2S1\n",
        "S2R2S4\n",
        "S2R1S4\n",
        "S2R2S4R0S5R2S1\n",
        "S2R1S4R0S5R2S1\n",
        "S2R2S4R14S5R2S1\n",
        "S2R2S4R12S6R14S5R2S1\n",
        "S2R1S5R2S4\n",
        "S2R1S5\n",
        "S2R2S1\n"
       ]
      }
     ],
     "prompt_number": 4
    },
    {
     "cell_type": "markdown",
     "metadata": {},
     "source": [
      "# Import arrival time data\n",
      "* arrival time of each pathway at nominal value of K's"
     ]
    },
    {
     "cell_type": "code",
     "collapsed": false,
     "input": [
      "# read pathway data as pandas frame object\n",
      "def read_pathway_as_pandas_frame_object(filename):\n",
      "    return pd.read_csv(filename, delimiter=\"\\t\", names=[\"number\"])\n",
      "\n",
      "# extract arrival time of a specific pathway\n",
      "def extract_AT_of_a_pathway(pandas_frame_obj, pathway_str):\n",
      "#     mask= pandas_frame_obj[\"pathway\"]==pathway_str\n",
      "#     mask= pandas_frame_obj[\"number\"]>=0\n",
      "#     mask= pandas_frame_obj[\"number\"]>=4.3640e-3\n",
      "    mask= pandas_frame_obj.index%2==0\n",
      "    pathway_data_tmp= pandas_frame_obj[mask]\n",
      "    return pathway_data_tmp.number.tolist()\n",
      "#     average_var= pathway_data_tmp.number.tolist()\n",
      "    \n",
      "file_name_AT= os.path.join(file_dir, \"output\", \"pathway_time_1.csv\")\n",
      "pathway_time_data= read_pathway_as_pandas_frame_object(file_name_AT)\n",
      "print pathway_time_data[0:10]\n",
      "AT_tmp= extract_AT_of_a_pathway(pathway_time_data, top_100_pathway[0])\n",
      "pathway_time_data.describe()\n",
      "print AT_tmp[0:10]"
     ],
     "language": "python",
     "metadata": {},
     "outputs": [
      {
       "output_type": "stream",
       "stream": "stdout",
       "text": [
        "     number\n",
        "0  0.004501\n",
        "1  0.000020\n",
        "2  0.003103\n",
        "3  0.000010\n",
        "4  0.008168\n",
        "5  0.000067\n",
        "6  0.002775\n",
        "7  0.000008\n",
        "8  0.006080\n",
        "9  0.000037\n",
        "[0.004501212306, 0.0031029809289999997, 0.008168353839, 0.002775026115, 0.006079632408999999, 0.002028861059, 0.001604994259, 0.002253667892, 0.0062532308499999995, 0.00215198976]"
       ]
      },
      {
       "output_type": "stream",
       "stream": "stdout",
       "text": [
        "\n"
       ]
      }
     ],
     "prompt_number": 5
    },
    {
     "cell_type": "code",
     "collapsed": false,
     "input": [
      "Nth_pathway= 1\n",
      "AT_tmp= extract_AT_of_a_pathway(pathway_time_data, top_100_pathway[Nth_pathway])\n",
      "print '{:,d}'.format(len(AT_tmp))\n",
      "print format(len(AT_tmp), \",d\")"
     ],
     "language": "python",
     "metadata": {},
     "outputs": [
      {
       "output_type": "stream",
       "stream": "stdout",
       "text": [
        "3,916\n",
        "3,916\n"
       ]
      }
     ],
     "prompt_number": 6
    },
    {
     "cell_type": "code",
     "collapsed": false,
     "input": [
      "import matplotlib as mpl\n",
      "import matplotlib.pyplot as plt\n",
      "\n",
      "#figure object\n",
      "fig, axes = plt.subplots( 1, 1, sharex = False, sharey = False, figsize=(5*2,5))\n",
      "# print min(AT_tmp), max(AT_tmp), target_time\n",
      "bar1=axes.hist(AT_tmp, 100)\n",
      "\n",
      "axes.axvline(x=target_time, color=\"r\")\n",
      "arrowprops = dict(arrowstyle='<-', shrinkA=1, shrinkB=1)\n",
      "ant = axes.annotate('target time', xy=(target_time, 1.05*max(bar1[0])), \\\n",
      "                     xytext=(target_time+2.0*(bar1[1][1]-bar1[1][0]), 1.05*max(bar1[0])), arrowprops=arrowprops )\n",
      "\n",
      "# axes.set_title(replace_asterisk_with_underscore(re_label_index(top_100_pathway[Nth_pathway])))\n",
      "axes.set_title(replace_asterisk_with_underscore(re_label_index(top_100_pathway[Nth_pathway]))+\"-zoom in\")\n",
      "axes.set_xlabel(\"time\")\n",
      "axes.set_ylabel(\"PDF\")\n",
      "\n",
      "curr_dir= os.path.join(file_dir, \"output\", \"AT\")\n",
      "if not os.path.exists(curr_dir):\n",
      "    os.makedirs(curr_dir)\n",
      "# fig.savefig(os.path.join(curr_dir, \"arrival_time\"+\"_\"+str(Nth_pathway)+\".png\"), dpi=600)\n",
      "fig.savefig(os.path.join(curr_dir, \"arrival_time\"+\"_\"+str(Nth_pathway)+\"_zoomin.png\"), dpi=600)"
     ],
     "language": "python",
     "metadata": {},
     "outputs": [
      {
       "metadata": {},
       "output_type": "display_data",
       "png": "[encoded data removed]",
       "text": [
        "<matplotlib.figure.Figure at 0x127aa780>"
       ]
      }
     ],
     "prompt_number": 7
    },
    {
     "cell_type": "code",
     "collapsed": false,
     "input": [
      "print max(bar1[0])\n",
      "print bar1[1][0]\n",
      "print ant"
     ],
     "language": "python",
     "metadata": {},
     "outputs": [
      {
       "output_type": "stream",
       "stream": "stdout",
       "text": [
        "277.0\n",
        "0.000882226275\n",
        "Annotation(0.00672107,290.85,'target time')\n"
       ]
      }
     ],
     "prompt_number": 8
    },
    {
     "cell_type": "markdown",
     "metadata": {},
     "source": [
      "# $1^{st}$ order sensitivity index\n",
      "* numpy.polynomial.legendre.legfit"
     ]
    },
    {
     "cell_type": "code",
     "collapsed": false,
     "input": [
      "from scipy.integrate import quad\n",
      "import numpy as np\n",
      "\n",
      "def density_uniform(x, a, b):\n",
      "    return 1.0/(b-a)\n",
      "\n",
      "def func_a(x, coef):\n",
      "    return numpy.polynomial.legendre.legval(x, coef)*density_uniform(x,xmin, xmax)\n",
      "\n",
      "def func_b(x, coef):\n",
      "    return (numpy.polynomial.legendre.legval(x, coef))**2*density_uniform(x, xmin, xmax)\n",
      "\n",
      "def SI_1st(target_time, xmin, xmax, coef):    \n",
      "    I0 = quad(func_a, xmin, xmax, args=(coef))\n",
      "    I1 = quad(func_b, xmin, xmax, args=(coef))\n",
      "    FitVariance= I1[0]-I0[0]**2\n",
      "    TotalVariance= np.var(target_time)    \n",
      "    return FitVariance/TotalVariance"
     ],
     "language": "python",
     "metadata": {},
     "outputs": [],
     "prompt_number": 9
    },
    {
     "cell_type": "markdown",
     "metadata": {},
     "source": [
      "# Import uncertainty data \n",
      "* $k_i=2\\times\\frac{k_i-k_i^{MIN}}{k_i^{MAX}-k_i^{MIN}}-1$\n",
      "* in the range of (-1, 1)"
     ]
    },
    {
     "cell_type": "code",
     "collapsed": false,
     "input": [
      "import os\n",
      "import numpy as np\n",
      "def read_uncertainty(file_dir, Nth_pathway):\n",
      "    ura_filename_in= os.path.join(file_dir,\"output\", \"uncertainties_random_all_\"+str(Nth_pathway)+\".out\")\n",
      "    ura_filename_in_const= os.path.join(file_dir,\"input/uncertainties.inp\")\n",
      "    uncertainties= np.loadtxt(ura_filename_in)\n",
      "    uncertainties_const= np.loadtxt(ura_filename_in_const, delimiter=\" \")[:,-1]\n",
      "    #modification due to duplicated reaction\n",
      "    uncertainties_const[24]=uncertainties_const[23]\n",
      "    \n",
      "    uncertainties_new=np.reshape(uncertainties, (-1, 25))\n",
      "    \n",
      "    #data modification, logendre polynomial is orthonormal in the range of (-1, 1)\n",
      "    for i in xrange(len(uncertainties_const)):\n",
      "        uncertainties_new[:,i]=(uncertainties_new[:,i]-1/uncertainties_const[i])/(uncertainties_const[i]-1/uncertainties_const[i])\n",
      "        uncertainties_new[:,i]=uncertainties_new[:,i]*2-1\n",
      "    \n",
      "    return uncertainties_new\n",
      "\n",
      "file_dir= \"/home/invictus/Documents/Summer_2013_Argonne/DATA_WORKDIR/TDDM_var_alpha_Dec_20_19_04_57_2013\"\n",
      "file_dir= os.path.abspath(os.path.join(os.getcwd(), os.pardir, os.pardir))\n",
      "uncertainties= read_uncertainty(file_dir, Nth_pathway)"
     ],
     "language": "python",
     "metadata": {},
     "outputs": [],
     "prompt_number": 14
    },
    {
     "cell_type": "markdown",
     "metadata": {},
     "source": [
      "# First order sensitivity\n",
      "* arrival time"
     ]
    },
    {
     "cell_type": "code",
     "collapsed": false,
     "input": [
      "Nth_order=10; xmin=-1 ;xmax=1\n",
      "#comprehensive list\n",
      "SI_1st_all=[SI_1st(AT_tmp, xmin, xmax, np.polynomial.legendre.legfit(uncertainties[:,i], AT_tmp, Nth_order))\\\n",
      "            for i in xrange(25)]"
     ],
     "language": "python",
     "metadata": {},
     "outputs": [],
     "prompt_number": 16
    },
    {
     "cell_type": "code",
     "collapsed": false,
     "input": [
      "import matplotlib.colors as colors\n",
      "import matplotlib as mpl\n",
      "\n",
      "N = 25\n",
      "\n",
      "ind = np.arange(N)+0.1    # the x locations for the groups\n",
      "width = 0.35       # the width of the bars: can also be len(x) sequence\n",
      "\n",
      "fig, ax = plt.subplots()\n",
      "\n",
      "#bar1=ax.bar(ind, SI_1st_all, width, color='#D95F02', bottom=0)\n",
      "colors = matplotlib.cm.rainbow(np.linspace(0, 1, N))\n",
      "bar1= ax.bar(ind, SI_1st_all, width, color=colors, bottom=0)\n",
      "\n",
      "label=[\"K_{\"+str(i)+\"}\" for i in xrange(N)]\n",
      "ax.set_ylabel('$1^{st}$'+\"SI\")\n",
      "# ax.set_title('$1^{st}$'+\"SI\"+\" of arrival time wrt K's\")\n",
      "ax.set_title(replace_asterisk_with_underscore(re_label_index(top_100_pathway[Nth_pathway])))\n",
      "ax.set_label= [str(i) for i in xrange(N)]\n",
      "ax.set_xticks(ind+width/2., label )\n",
      "ax.set_yticks(np.arange(0,1.1,0.1))\n",
      "ax.legend((bar1[0], ), ('arrival time', ), loc=2)\n",
      "\n",
      "def autolabel(rects):\n",
      "    # attach some text labels\n",
      "    for rect in rects:\n",
      "        height = rect.get_height()\n",
      "        ax.text(rect.get_x()+rect.get_width()/2., 1.05*height, '%.3f'%(height),\n",
      "                ha='center', va='bottom', fontsize=4)\n",
      "\n",
      "autolabel(bar1)\n",
      "\n",
      "curr_dir= os.path.join(file_dir, \"output\", \"arrival_time\")\n",
      "if not os.path.exists(curr_dir):\n",
      "    os.makedirs(curr_dir)\n",
      "fig.savefig(os.path.join(curr_dir, \"AT_\"+str(Nth_pathway)+\".png\"), dpi=1000)"
     ],
     "language": "python",
     "metadata": {},
     "outputs": [
      {
       "metadata": {},
       "output_type": "display_data",
       "png": "[encoded data removed]",
       "text": [
        "<matplotlib.figure.Figure at 0x1401f828>"
       ]
      }
     ],
     "prompt_number": 20
    }
   ],
   "metadata": {}
  }
 ]
}