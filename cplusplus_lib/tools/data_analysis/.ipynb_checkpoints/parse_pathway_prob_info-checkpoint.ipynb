{
 "metadata": {
  "name": ""
 },
 "nbformat": 3,
 "nbformat_minor": 0,
 "worksheets": [
  {
   "cells": [
    {
     "cell_type": "code",
     "collapsed": false,
     "input": [
      "import numpy as np\n",
      "import matplotlib.pyplot as plt\n",
      "import pandas as pd\n",
      "import scipy as sp\n",
      "import os\n",
      "import re\n",
      "import sys"
     ],
     "language": "python",
     "metadata": {},
     "outputs": [],
     "prompt_number": 1
    },
    {
     "cell_type": "heading",
     "level": 1,
     "metadata": {},
     "source": [
      "Read in the data and store them in a list according to their own index"
     ]
    },
    {
     "cell_type": "code",
     "collapsed": false,
     "input": [
      "def read_pathway_as_pandas_frame_object(filename):\n",
      "    return pd.read_csv(filename, delimiter=\"\\t\", names=[\"pathway\", \"number\"])\n",
      "\n",
      "def convert_pandas_frame_object_to_list(pathway_data):    \n",
      "    # parse the last symbol \"#\" and get the max index, #K's =maxIndex+1\n",
      "    mask = pathway_data.pathway.str.contains(\"#\")\n",
      "    MaxIndex= pathway_data[mask].tail(1).pathway.str.replace(\"#\", \"\").tolist()[0]\n",
      "    MaxIndex= int(MaxIndex)\n",
      "    \n",
      "    # convert Object to list, Store the pathway data in a list indexed with their own index\n",
      "    pathway=[]\n",
      "    for i in xrange(MaxIndex):\n",
      "        mask_split1= pathway_data.index>=pathway_data[pathway_data.pathway==(\"#\"+str(i))].index\n",
      "        mask_split2= pathway_data.index<pathway_data[pathway_data.pathway==(\"#\"+str(i+1))].index\n",
      "        pathway.append(pathway_data[(mask_split1) & (mask_split2)])\n",
      "        \n",
      "    # the last element\n",
      "    mask_split2= pathway_data.index>=pathway_data[pathway_data.pathway==(\"#\"+str(MaxIndex))].index\n",
      "    pathway.append(pathway_data[mask_split2])\n",
      "    \n",
      "    return pathway"
     ],
     "language": "python",
     "metadata": {},
     "outputs": [],
     "prompt_number": 28
    },
    {
     "cell_type": "heading",
     "level": 1,
     "metadata": {},
     "source": [
      "Extract the non-duplicated pathway and sort based on their total weight"
     ]
    },
    {
     "cell_type": "code",
     "collapsed": false,
     "input": [
      "def get_name_of_all_pathway(pathway_data):\n",
      "    mask = pathway_data.pathway.str.contains(\"#\")\n",
      "    pathway_t= pathway_data[~mask]\n",
      "    pathway_name= pathway_t.pathway.tolist()\n",
      "    pathway_number= pathway_t.number.tolist()\n",
      "    \n",
      "    # pathway dictionary, no duplicated pathway\n",
      "    pathway_dict= dict()\n",
      "    \n",
      "    for i in xrange(len(pathway_name)):\n",
      "        if not pathway_dict.has_key(pathway_name[i]):\n",
      "            pathway_dict[pathway_name[i]]=pathway_number[i]\n",
      "        else:\n",
      "            pathway_dict[pathway_name[i]]+=pathway_number[i]\n",
      "    \n",
      "    # sort pathway_dict, return sorted tuple pair\n",
      "    pathway_tuple_sorted= sorted(pathway_dict.items(), key=lambda x: x[1], reverse=True)\n",
      "    # get pathway list\n",
      "    all_pathway_name= [x[0] for x in pathway_tuple_sorted]\n",
      "\n",
      "    return all_pathway_name"
     ],
     "language": "python",
     "metadata": {},
     "outputs": [],
     "prompt_number": 31
    },
    {
     "cell_type": "heading",
     "level": 1,
     "metadata": {},
     "source": [
      "Check whether each set of K's has the pathway in all_pathway_name, it does, break, it doesn't, label the pathway with weight 0"
     ]
    },
    {
     "cell_type": "code",
     "collapsed": false,
     "input": [
      "def get_list_of_prob_of_a_pathway(pathway, all_pathway_name, Nth_pathway):\n",
      "    prob_of_a_pathway= np.zeros(len(pathway))\n",
      "    for i in xrange(len(pathway)):\n",
      "        # this K's contains current pathway \n",
      "        if pathway[i].apply(lambda x: all_pathway_name[Nth_pathway] in x.values, axis=1).any():\n",
      "            prob_of_a_pathway[i]=pathway[i][pathway[i].pathway==all_pathway_name[Nth_pathway]].number.tolist()[0]\n",
      "            \n",
      "    return prob_of_a_pathway\n",
      "\n",
      "# file_dir= \"/home/invictus/Documents/Summer_2013_Argonne/DATA_WORKDIR/TDDM_var_alpha_Dec_08_20_28_14_2013\"\n",
      "file_dir= \"D:\\Documents\\Documents_to_research\\Summer_2013_Argonne\\TDDM_var_alpha_Dec_08_20_28_14_2013\"\n",
      "file_name_pathway_prob= os.path.join(file_dir, \"output\", \"pathway_HO2.csv\")\n",
      "\n",
      "pathway_data= read_pathway_as_pandas_frame_object(file_name_pathway_prob)\n",
      "pathway= convert_pandas_frame_object_to_list(pathway_data)\n",
      "\n",
      "all_pathway_name= get_name_of_all_pathway(pathway_data)\n",
      "\n",
      "#which pathway\n",
      "Nth_pathway= 0\n",
      "prob_of_a_pathway= get_list_of_prob_of_a_pathway(pathway, all_pathway_name, Nth_pathway)\n",
      "print prob_of_a_pathway[0:10]"
     ],
     "language": "python",
     "metadata": {},
     "outputs": [
      {
       "output_type": "stream",
       "stream": "stdout",
       "text": [
        "[ 0.          0.0001772   0.0001452   0.0001204   0.0001084   0.0001088   0.\n",
        "  0.0001532   0.00010247  0.00014   ]\n"
       ]
      }
     ],
     "prompt_number": 32
    }
   ],
   "metadata": {}
  }
 ]
}