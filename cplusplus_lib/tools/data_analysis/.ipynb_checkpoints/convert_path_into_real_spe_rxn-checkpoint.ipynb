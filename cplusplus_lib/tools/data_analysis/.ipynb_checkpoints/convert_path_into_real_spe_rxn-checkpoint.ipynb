{
 "metadata": {
  "name": "",
  "signature": "sha256:5b712bd7cd5ca27008769f7074d06e373bcffc362be305cac3450084c66cdced"
 },
 "nbformat": 3,
 "nbformat_minor": 0,
 "worksheets": [
  {
   "cells": [
    {
     "cell_type": "code",
     "collapsed": false,
     "input": [
      "import numpy as np\n",
      "import re\n",
      "import sys\n",
      "import os\n",
      "import parse_spe_reaction_info as psri"
     ],
     "language": "python",
     "metadata": {},
     "outputs": [],
     "prompt_number": 1
    },
    {
     "cell_type": "code",
     "collapsed": false,
     "input": [
      "file_dir= os.path.abspath(os.path.join(os.path.realpath(sys.argv[0]), os.pardir, os.pardir, os.pardir))\n",
      "print file_dir"
     ],
     "language": "python",
     "metadata": {},
     "outputs": [
      {
       "output_type": "stream",
       "stream": "stdout",
       "text": [
        "/home/invictus/Documents/spring_2015_boulder/SRC_EXE_DIR/RxnNetwork_TDDM_alpha_16.0\n"
       ]
      }
     ],
     "prompt_number": 2
    },
    {
     "cell_type": "markdown",
     "metadata": {},
     "source": [
      "* filename, parse species and reaction info"
     ]
    },
    {
     "cell_type": "code",
     "collapsed": false,
     "input": [
      "filename1= os.path.join(file_dir, \"output\", \"species_labelling.dat\")\n",
      "filename2= os.path.join(file_dir, \"output\", \"reaction_labelling.dat\")\n",
      "spe_ind_name_dict, spe_name_ind_dict= psri.parse_spe_info(filename1)\n",
      "old_new_index_dict, new_old_index_dict, new_ind_rxn_dict= psri.parse_rxn_and_its_index(filename2)\n",
      "print new_ind_rxn_dict['1660']\n",
      "print new_ind_rxn_dict['1744']\n",
      "print spe_ind_name_dict['127']"
     ],
     "language": "python",
     "metadata": {},
     "outputs": [
      {
       "output_type": "stream",
       "stream": "stdout",
       "text": [
        "C7H15O2-4=>C7H14OOH4-2\n",
        "C7H14OOH4-2O2=>NC7KET42+OH\n",
        "C7H15O2-4\n"
       ]
      }
     ],
     "prompt_number": 3
    },
    {
     "cell_type": "markdown",
     "metadata": {},
     "source": [
      "* parse path first"
     ]
    },
    {
     "cell_type": "code",
     "collapsed": false,
     "input": [
      "path= 'S127R1660S149R1744S159R1756S113'\n",
      "\"\"\"\n",
      "converted path to their real species name and reaction format instead of index\n",
      "\"\"\"\n",
      "def PATH_to_real_spe_rxn(spe_ind_name_dict, new_ind_rxn_dict, pathway_name):\n",
      "    matched_S= re.findall(\"S(\\d+)\", pathway_name)\n",
      "    matched_R= re.findall(\"R(\\d+)\", pathway_name)\n",
      "    print matched_S\n",
      "    print matched_R\n",
      "    # always starts from species\n",
      "    str_t= '['+spe_ind_name_dict[matched_S[0]]+'] '\n",
      "    for i in xrange(len(matched_R)):\n",
      "        str_t+=new_ind_rxn_dict[matched_R[i]]\n",
      "        str_t+=\"-->\"\n",
      "        str_t+='['+spe_ind_name_dict[matched_S[i+1]]+'] '\n",
      "        \n",
      "    return str_t\n",
      "\n",
      "print PATH_to_real_spe_rxn(spe_ind_name_dict, new_ind_rxn_dict, path)"
     ],
     "language": "python",
     "metadata": {},
     "outputs": [
      {
       "output_type": "stream",
       "stream": "stdout",
       "text": [
        "['127', '149', '159', '113']\n",
        "['1660', '1744', '1756']\n",
        "[C7H15O2-4] C7H15O2-4=>C7H14OOH4-2-->[C7H14OOH4-2O2] C7H14OOH4-2O2=>NC7KET42+OH-->[NC7KET42] NC7KET42=>CH3CHO+NC3H7COCH2+OH-->[NC3H7COCH2] \n"
       ]
      }
     ],
     "prompt_number": 4
    },
    {
     "cell_type": "code",
     "collapsed": false,
     "input": [],
     "language": "python",
     "metadata": {},
     "outputs": [],
     "prompt_number": 4
    }
   ],
   "metadata": {}
  }
 ]
}