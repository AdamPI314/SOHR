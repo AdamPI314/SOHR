{
 "metadata": {
  "name": "",
  "signature": "sha256:f1618608b115873a108d8d9b865e55c4eec0a2827f83690538cc1fc2ba99610b"
 },
 "nbformat": 3,
 "nbformat_minor": 0,
 "worksheets": [
  {
   "cells": [
    {
     "cell_type": "code",
     "collapsed": false,
     "input": [
      "import pandas as pd\n",
      "import numpy as np\n",
      "import re\n",
      "import os\n",
      "import sys"
     ],
     "language": "python",
     "metadata": {},
     "outputs": [],
     "prompt_number": 11
    },
    {
     "cell_type": "code",
     "collapsed": false,
     "input": [
      "file_dir= os.path.abspath(os.path.join(os.path.realpath(sys.argv[0]), os.pardir, os.pardir, os.pardir))\n",
      "print file_dir"
     ],
     "language": "python",
     "metadata": {},
     "outputs": [
      {
       "output_type": "stream",
       "stream": "stdout",
       "text": [
        "/home/invictus/Documents/spring_2015_boulder/SRC_EXE_DIR/RxnNetwork_TDDM_alpha_16.0\n"
       ]
      }
     ],
     "prompt_number": 12
    },
    {
     "cell_type": "markdown",
     "metadata": {},
     "source": [
      "* filename"
     ]
    },
    {
     "cell_type": "code",
     "collapsed": false,
     "input": [
      "filename= os.path.join(file_dir, \"output\", \"species_labelling.dat\")"
     ],
     "language": "python",
     "metadata": {},
     "outputs": [],
     "prompt_number": 13
    },
    {
     "cell_type": "markdown",
     "metadata": {},
     "source": [
      "* load data"
     ]
    },
    {
     "cell_type": "code",
     "collapsed": false,
     "input": [
      "# line_content= [x.rstrip('\\n') for x in open(filename)]\n",
      "line_content= np.genfromtxt(filename, dtype=str, delimiter='\\n')"
     ],
     "language": "python",
     "metadata": {},
     "outputs": [],
     "prompt_number": 14
    },
    {
     "cell_type": "code",
     "collapsed": false,
     "input": [
      "print np.shape(line_content)\n",
      "print line_content[0:5]"
     ],
     "language": "python",
     "metadata": {},
     "outputs": [
      {
       "output_type": "stream",
       "stream": "stdout",
       "text": [
        "(166,)\n",
        "['0\\t-->\\tH\\tH:1\\t' '1\\t-->\\tH2\\tH:2\\t' '2\\t-->\\tC\\tC:1\\t'\n",
        " '3\\t-->\\tCH\\tC:1\\tH:1\\t' '4\\t-->\\tCH2(T)\\tC:1\\tH:2\\t']\n"
       ]
      }
     ],
     "prompt_number": 15
    },
    {
     "cell_type": "markdown",
     "metadata": {},
     "source": [
      "* use regex to parse species index and species names"
     ]
    },
    {
     "cell_type": "code",
     "collapsed": false,
     "input": [
      "matched_str= [re.findall(\"(\\d+)\\t-->\\t([\\w|\\-|(|)]+)\", line)[0] for line in line_content]\n",
      "print matched_str[0:5]\n",
      "matched_str_reverse=[(x[1], x[0]) for x in matched_str]\n",
      "print matched_str_reverse[0:5]"
     ],
     "language": "python",
     "metadata": {},
     "outputs": [
      {
       "output_type": "stream",
       "stream": "stdout",
       "text": [
        "[('0', 'H'), ('1', 'H2'), ('2', 'C'), ('3', 'CH'), ('4', 'CH2(T)')]\n",
        "[('H', '0'), ('H2', '1'), ('C', '2'), ('CH', '3'), ('CH2(T)', '4')]\n"
       ]
      }
     ],
     "prompt_number": 16
    },
    {
     "cell_type": "markdown",
     "metadata": {},
     "source": [
      "* create a dictionary use parsed info above"
     ]
    },
    {
     "cell_type": "code",
     "collapsed": false,
     "input": [
      "spe_ind_name_dict= dict(matched_str)\n",
      "print spe_ind_name_dict['3']\n",
      "spe_name_ind_dict= dict(matched_str_reverse)\n",
      "print spe_name_ind_dict['CH']"
     ],
     "language": "python",
     "metadata": {},
     "outputs": [
      {
       "output_type": "stream",
       "stream": "stdout",
       "text": [
        "CH\n",
        "3\n"
       ]
      }
     ],
     "prompt_number": 17
    },
    {
     "cell_type": "markdown",
     "metadata": {},
     "source": [
      "* define a new function, basically merge all above into a single function"
     ]
    },
    {
     "cell_type": "code",
     "collapsed": false,
     "input": [
      "def parse_spe_info(filename):\n",
      "    line_content= np.genfromtxt(filename, dtype=str, delimiter='\\n')\n",
      "    \n",
      "    matched_str= [re.findall(\"(\\d+)\\t-->\\t([\\w|\\-|(|)]+)\", line)[0] for line in line_content]\n",
      "    matched_str_reverse=[(x[1], x[0]) for x in matched_str]\n",
      "    \n",
      "    spe_ind_name_dict= dict(matched_str)\n",
      "    spe_name_ind_dict= dict(matched_str_reverse)\n",
      "    \n",
      "    return spe_ind_name_dict, spe_name_ind_dict"
     ],
     "language": "python",
     "metadata": {},
     "outputs": [],
     "prompt_number": 18
    },
    {
     "cell_type": "code",
     "collapsed": false,
     "input": [
      "a,b= parse_spe_info(filename)"
     ],
     "language": "python",
     "metadata": {},
     "outputs": [],
     "prompt_number": 19
    },
    {
     "cell_type": "code",
     "collapsed": false,
     "input": [
      "print a,b"
     ],
     "language": "python",
     "metadata": {},
     "outputs": [
      {
       "output_type": "stream",
       "stream": "stdout",
       "text": [
        "{'165': 'C6H102OOH4-5', '133': 'C7H14OOH1-4', '132': 'C7H14OOH1-3', '131': 'C7H15O-3', '130': 'C7H15O-1', '137': 'C7H14OOH3-1', '136': 'C7H14OOH2-5', '135': 'C7H14OOH2-4', '134': 'C7H14OOH2-3', '139': 'C7H14OOH3-6', '138': 'C7H14OOH3-5', '24': 'CH3OH', '25': 'HO2', '26': 'H2O2', '27': 'C2O', '20': 'C2H6', '21': 'CH2OH', '22': 'CH3O', '23': 'O2', '160': 'NC4H9COCH2', '28': 'HCCO', '29': 'CH2CO', '161': 'C4H7OOH1-4', '0': 'H', '4': 'CH2(T)', '8': 'CH4', '163': 'CHCHCHO', '119': 'C7H14-1', '120': 'C7H14-2', '121': 'C7H14-3', '122': 'C7H132-4', '123': 'C7H13O2-4', '124': 'C7H15O2-1', '125': 'C7H15O2-2', '126': 'C7H15O2-3', '127': 'C7H15O2-4', '128': 'C7H15O2H-1', '129': 'C7H15O2H-3', '118': 'C7H15-4', '59': 'C3H5O', '58': 'C3H2', '55': 'C3H3', '54': 'MB2J', '57': 'MB2O', '56': 'NC4KET13', '51': 'C3H4-P', '50': 'MB', '53': 'C3H4-A', '52': 'MB2D', '164': 'ETES1', '115': 'C7H15-1', '114': 'NC7H16', '88': 'C2H3O1-2', '89': 'C4H72-1', '111': 'C6H13O2-1', '110': 'C6H12-1', '113': 'NC3H7COCH2', '112': 'NC4H9CHO', '82': 'CH2COOH', '83': 'C2H5O2H', '80': 'PC4H9', '81': 'SC4H9', '86': 'C4H71-3', '87': 'MP2DMJ', '84': 'MEMJ', '85': 'C2H4O2H', '3': 'CH', '7': 'O', '108': 'C5H11O2-1', '109': 'C6H13-1', '102': 'C2H5CO', '103': 'C4H7O', '100': 'C2H5CHO', '101': 'MB2OO', '106': 'C5H10-1', '107': 'C5H91-4', '104': 'C5H11-1', '105': 'C5H11-2', '39': 'C2H5O2', '38': 'OCHCHO', '33': 'CO2', '32': 'CH3CO', '31': 'CH2CHO', '30': 'HCCOH', '37': 'CH3OOH', '36': 'CH3O2', '35': 'C2H5O', '34': 'CH3CHO', '60': 'C3H6OOH-2', '61': 'C3H6OOH-3', '62': 'MB3J', '63': 'C2H5COCH2', '64': 'C3H6OOH1-3O2', '65': 'CH2CH2COCH3', '66': 'CH3CHCOCH3', '67': 'C2H3COCH3', '68': 'NC3H7O2', '69': 'NC3H7CHO', '2': 'C', '162': 'C4H7O1-4', '6': 'CH3', '99': 'MB3OO', '98': 'C2H3CO', '91': 'C4H6', '90': 'CH3COCH2', '93': 'CH3COCH2O2H', '92': 'CH3COCH2O2', '95': 'PC4H9O2', '94': 'CH3COCH2O', '97': 'MBMOO', '96': 'C2H3CHO', '11': 'C2H', '10': 'H2O', '13': 'C2H3', '12': 'C2H2', '15': 'C2H4', '14': 'CO', '17': 'HCO', '16': 'N2', '19': 'CH2O', '18': 'C2H5', '117': 'C7H15-3', '116': 'C7H15-2', '151': 'C7H14O2-4', '150': 'C7H14O1-4', '153': 'NC7KET13', '152': 'C7H14O2-5', '155': 'NC7KET25', '154': 'NC7KET24', '157': 'NC7KET35', '156': 'NC7KET31', '159': 'NC7KET42', '158': 'NC7KET36', '48': 'C3H5-A', '49': 'C3H5-S', '46': 'C3H6', '47': 'C4H8OOH1-3O2', '44': 'IC3H7', '45': 'NC3H7', '42': 'CH3OCO', '43': 'C3H8', '40': 'C4H8OH-1', '41': 'C4H8OOH1-3', '1': 'H2', '5': 'CH2(S)', '9': 'OH', '146': 'C7H14OOH3-1O2', '147': 'C7H14OOH3-5O2', '144': 'C7H14OOH2-4O2', '145': 'C7H14OOH2-5O2', '142': 'C7H14OOH1-4O2', '143': 'C7H14OOH2-3O2', '140': 'C7H14OOH4-2', '141': 'C7H14OOH1-3O2', '148': 'C7H14OOH3-6O2', '149': 'C7H14OOH4-2O2', '77': 'CH3CHCO', '76': 'MP2D', '75': 'ME2J', '74': 'C3H6O1-2', '73': 'NC3H7O', '72': 'NC3H7CO', '71': 'IC3H7O2', '70': 'MBMJ', '79': 'C4H8-1', '78': 'C4H10'} {'CH2(S)': '5', 'NC7KET42': '159', 'C2H5O2': '39', 'CH3OH': '24', 'NC7KET36': '158', 'NC3H7COCH2': '113', 'C4H8OOH1-3O2': '47', 'CH2COOH': '82', 'O2': '23', 'CH3COCH2O': '94', 'C6H13-1': '109', 'HCCOH': '30', 'C3H5-A': '48', 'C7H15-1': '115', 'C7H15-2': '116', 'CH3': '6', 'CH4': '8', 'CH3CHCO': '77', 'C2H3O1-2': '88', 'C2H': '11', 'PC4H9O2': '95', 'NC7KET31': '156', 'C2O': '27', 'C5H91-4': '107', 'C7H15-3': '117', 'NC3H7': '45', 'C2H3COCH3': '67', 'H': '0', 'NC3H7CO': '72', 'NC4H9COCH2': '160', 'C2H5O': '35', 'C4H10': '78', 'C3H6OOH-2': '60', 'C3H6OOH-3': '61', 'C7H14OOH4-2O2': '149', 'C7H132-4': '122', 'C7H15-4': '118', 'OH': '9', 'CH3O2': '36', 'C7H14O2-4': '151', 'C7H14O2-5': '152', 'ME2J': '75', 'C7H14OOH3-6O2': '148', 'C3H6': '46', 'C3H2': '58', 'C3H3': '55', 'C7H14OOH2-5O2': '145', 'C3H8': '43', 'PC4H9': '80', 'CH2CH2COCH3': '65', 'MB2D': '52', 'CH2O': '19', 'CH2OH': '21', 'MB2O': '57', 'C7H14OOH3-1': '137', 'H2O2': '26', 'MP2DMJ': '87', 'C6H13O2-1': '111', 'C5H11-2': '105', 'C5H11-1': '104', 'C7H13O2-4': '123', 'HCCO': '28', 'CH2(T)': '4', 'C7H14OOH1-3': '132', 'C': '2', 'C2H4O2H': '85', 'C7H14OOH1-4': '133', 'C7H14OOH3-5O2': '147', 'C4H72-1': '89', 'O': '7', 'C4H71-3': '86', 'C2H6': '20', 'C2H5': '18', 'CH3O': '22', 'OCHCHO': '38', 'C2H2': '12', 'IC3H7O2': '71', 'MB': '50', 'H2': '1', 'MBMJ': '70', 'CHCHCHO': '163', 'CH3OOH': '37', 'C2H5CO': '102', 'C5H11O2-1': '108', 'C7H14O1-4': '150', 'C7H14OOH3-1O2': '146', 'C4H7OOH1-4': '161', 'C7H14OOH4-2': '140', 'NC3H7CHO': '69', 'MB3OO': '99', 'CH3CHO': '34', 'C3H5O': '59', 'C2H4': '15', 'C2H5O2H': '83', 'NC3H7O': '73', 'C3H4-P': '51', 'HCO': '17', 'C2H3CHO': '96', 'C6H12-1': '110', 'C3H4-A': '53', 'NC3H7O2': '68', 'C7H14-1': '119', 'C7H14OOH2-4': '135', 'C7H14-3': '121', 'C7H14-2': '120', 'CH': '3', 'CO': '14', 'C5H10-1': '106', 'NC7H16': '114', 'MEMJ': '84', 'NC7KET35': '157', 'C2H3': '13', 'ETES1': '164', 'IC3H7': '44', 'N2': '16', 'C7H14OOH2-3': '134', 'CO2': '33', 'C2H3CO': '98', 'C7H14OOH2-5': '136', 'SC4H9': '81', 'C3H5-S': '49', 'H2O': '10', 'CH3CO': '32', 'CH3COCH2': '90', 'CH3COCH2O2H': '93', 'C2H5CHO': '100', 'MB2OO': '101', 'C7H14OOH2-3O2': '143', 'C7H14OOH1-4O2': '142', 'CH3OCO': '42', 'C4H7O': '103', 'MB2J': '54', 'NC7KET13': '153', 'C4H8OOH1-3': '41', 'NC4KET13': '56', 'CH2CHO': '31', 'C3H6OOH1-3O2': '64', 'HO2': '25', 'C7H14OOH2-4O2': '144', 'C4H7O1-4': '162', 'C7H14OOH3-5': '138', 'C7H14OOH3-6': '139', 'MP2D': '76', 'C7H14OOH1-3O2': '141', 'C7H15O2H-1': '128', 'C4H6': '91', 'C6H102OOH4-5': '165', 'C2H5COCH2': '63', 'C7H15O2H-3': '129', 'MB3J': '62', 'CH3COCH2O2': '92', 'NC4H9CHO': '112', 'C4H8OH-1': '40', 'C4H8-1': '79', 'C7H15O2-1': '124', 'C7H15O2-3': '126', 'C7H15O2-2': '125', 'C7H15O2-4': '127', 'CH3CHCOCH3': '66', 'MBMOO': '97', 'C3H6O1-2': '74', 'C7H15O-1': '130', 'CH2CO': '29', 'C7H15O-3': '131', 'NC7KET24': '154', 'NC7KET25': '155'}\n"
       ]
      }
     ],
     "prompt_number": 20
    },
    {
     "cell_type": "code",
     "collapsed": false,
     "input": [],
     "language": "python",
     "metadata": {},
     "outputs": [],
     "prompt_number": 20
    }
   ],
   "metadata": {}
  }
 ]
}