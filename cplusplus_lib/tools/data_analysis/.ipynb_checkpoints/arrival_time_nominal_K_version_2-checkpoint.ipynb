{
 "metadata": {
  "name": ""
 },
 "nbformat": 3,
 "nbformat_minor": 0,
 "worksheets": [
  {
   "cells": [
    {
     "cell_type": "code",
     "collapsed": false,
     "input": [
      "from scipy import stats\n",
      "import numpy as np\n",
      "import pandas as pd\n",
      "import matplotlib.pyplot as plt\n",
      "import os\n",
      "# import locale"
     ],
     "language": "python",
     "metadata": {},
     "outputs": [],
     "prompt_number": 2
    },
    {
     "cell_type": "markdown",
     "metadata": {},
     "source": [
      "# Import top 100 pathway and their prob at nominal K's\n",
      "* unertainty= 1.0"
     ]
    },
    {
     "cell_type": "code",
     "collapsed": false,
     "input": [
      "# read data as pandas frame object\n",
      "def load_top_100_pathway_at_nominal_K(file_name):\n",
      "    data= pd.read_csv(file_name, delimiter=\"\\t\", names=[\"pathway\", \"number\"])\n",
      "    pathway= data.pathway.tolist()\n",
      "    number= data.number.tolist()\n",
      "    return pathway, number\n",
      "\n",
      "file_dir= os.path.abspath(os.path.join(os.getcwd(), os.pardir, os.pardir))\n",
      "file_name= os.path.join(file_dir, \"output\", \"pathway_nominal_top_100.csv\")\n",
      "top_100_pathway, top_100_number= load_top_100_pathway_at_nominal_K(file_name)\n",
      "\n",
      "print top_100_pathway[0:5]\n",
      "print top_100_number[0:5]"
     ],
     "language": "python",
     "metadata": {},
     "outputs": [
      {
       "output_type": "stream",
       "stream": "stdout",
       "text": [
        "['S2', 'S2R4S1', 'S2R2S5R4S1', 'S2R4S4', 'S2R2S4']\n",
        "[0.6949892, 0.1432295, 0.02145978, 0.02136216, 0.01419078]\n"
       ]
      }
     ],
     "prompt_number": 3
    },
    {
     "cell_type": "markdown",
     "metadata": {},
     "source": [
      "# Import target time\n",
      "* target time"
     ]
    },
    {
     "cell_type": "code",
     "collapsed": false,
     "input": [
      "target_time=np.loadtxt(os.path.join(file_dir, \"output\",\"target_time.dat\"))\n",
      "print target_time"
     ],
     "language": "python",
     "metadata": {},
     "outputs": [
      {
       "output_type": "stream",
       "stream": "stdout",
       "text": [
        "0.00436439\n"
       ]
      }
     ],
     "prompt_number": 4
    },
    {
     "cell_type": "markdown",
     "metadata": {},
     "source": [
      "# Import arrival time data\n",
      "* arrival time of each pathway at nominal value of K's"
     ]
    },
    {
     "cell_type": "code",
     "collapsed": false,
     "input": [
      "# read pathway data as pandas frame object\n",
      "def read_pathway_as_pandas_frame_object(filename):\n",
      "    return pd.read_csv(filename, delimiter=\"\\t\", names=[\"number\"])\n",
      "\n",
      "# extract arrival time of a specific pathway\n",
      "def extract_AT_of_a_pathway(pandas_frame_obj, pathway_str):\n",
      "#     mask= pandas_frame_obj[\"pathway\"]==pathway_str\n",
      "#     mask= pandas_frame_obj[\"number\"]>=0\n",
      "    mask= pandas_frame_obj[\"number\"]>=4.3640e-3\n",
      "    pathway_data_tmp= pandas_frame_obj[mask]\n",
      "    return pathway_data_tmp.number.tolist()\n",
      "    \n",
      "file_name_AT= os.path.join(file_dir, \"output\", \"pathway_time.csv\")\n",
      "pathway_time_data= read_pathway_as_pandas_frame_object(file_name_AT)\n",
      "# AT_tmp= extract_AT_of_a_pathway(pathway_time_data, top_100_pathway[0])\n",
      "    "
     ],
     "language": "python",
     "metadata": {},
     "outputs": [],
     "prompt_number": 5
    },
    {
     "cell_type": "code",
     "collapsed": false,
     "input": [
      "Nth_pathway= 1\n",
      "AT_tmp= extract_AT_of_a_pathway(pathway_time_data, top_100_pathway[Nth_pathway])\n",
      "print '{:,d}'.format(len(AT_tmp))\n",
      "print format(len(AT_tmp), \",d\")"
     ],
     "language": "python",
     "metadata": {},
     "outputs": [
      {
       "output_type": "stream",
       "stream": "stdout",
       "text": [
        "9,577,220\n",
        "9,577,220\n"
       ]
      }
     ],
     "prompt_number": 6
    },
    {
     "cell_type": "code",
     "collapsed": false,
     "input": [
      "import matplotlib as mpl\n",
      "import matplotlib.pyplot as plt\n",
      "\n",
      "#figure object\n",
      "fig, axes = plt.subplots( 1, 1, sharex = False, sharey = False, figsize=(5*2,5))\n",
      "# print min(AT_tmp), max(AT_tmp), target_time\n",
      "bar1=axes.hist(AT_tmp, 100)\n",
      "\n",
      "axes.axvline(x=target_time, color=\"r\")\n",
      "arrowprops = dict(arrowstyle='<-', shrinkA=1, shrinkB=1)\n",
      "ant = axes.annotate('target time', xy=(target_time, 1.05*max(bar1[0])), \\\n",
      "                     xytext=(target_time+2.0*(bar1[1][1]-bar1[1][0]), 1.05*max(bar1[0])), arrowprops=arrowprops )\n",
      "\n",
      "# axes.set_title(replace_asterisk_with_underscore(re_label_index(top_100_pathway[Nth_pathway])))\n",
      "axes.set_title(replace_asterisk_with_underscore(re_label_index(top_100_pathway[Nth_pathway]))+\"-zoom in\")\n",
      "axes.set_xlabel(\"time\")\n",
      "axes.set_ylabel(\"PDF\")\n",
      "\n",
      "curr_dir= os.path.join(file_dir, \"output\", \"AT\")\n",
      "if not os.path.exists(curr_dir):\n",
      "    os.makedirs(curr_dir)\n",
      "# fig.savefig(os.path.join(curr_dir, \"arrival_time\"+\"_\"+str(Nth_pathway)+\".png\"), dpi=600)\n",
      "fig.savefig(os.path.join(curr_dir, \"arrival_time\"+\"_\"+str(Nth_pathway)+\"_zoomin.png\"), dpi=600)"
     ],
     "language": "python",
     "metadata": {},
     "outputs": [
      {
       "ename": "NameError",
       "evalue": "name 'replace_asterisk_with_underscore' is not defined",
       "output_type": "pyerr",
       "traceback": [
        "\u001b[1;31m---------------------------------------------------------------------------\u001b[0m\n\u001b[1;31mNameError\u001b[0m                                 Traceback (most recent call last)",
        "\u001b[1;32m<ipython-input-7-bd1027f8fad1>\u001b[0m in \u001b[0;36m<module>\u001b[1;34m()\u001b[0m\n\u001b[0;32m     12\u001b[0m \u001b[1;33m\u001b[0m\u001b[0m\n\u001b[0;32m     13\u001b[0m \u001b[1;31m# axes.set_title(replace_asterisk_with_underscore(re_label_index(top_100_pathway[Nth_pathway])))\u001b[0m\u001b[1;33m\u001b[0m\u001b[1;33m\u001b[0m\u001b[0m\n\u001b[1;32m---> 14\u001b[1;33m \u001b[0maxes\u001b[0m\u001b[1;33m.\u001b[0m\u001b[0mset_title\u001b[0m\u001b[1;33m(\u001b[0m\u001b[0mreplace_asterisk_with_underscore\u001b[0m\u001b[1;33m(\u001b[0m\u001b[0mre_label_index\u001b[0m\u001b[1;33m(\u001b[0m\u001b[0mtop_100_pathway\u001b[0m\u001b[1;33m[\u001b[0m\u001b[0mNth_pathway\u001b[0m\u001b[1;33m]\u001b[0m\u001b[1;33m)\u001b[0m\u001b[1;33m)\u001b[0m\u001b[1;33m+\u001b[0m\u001b[1;34m\"-zoom in\"\u001b[0m\u001b[1;33m)\u001b[0m\u001b[1;33m\u001b[0m\u001b[0m\n\u001b[0m\u001b[0;32m     15\u001b[0m \u001b[0maxes\u001b[0m\u001b[1;33m.\u001b[0m\u001b[0mset_xlabel\u001b[0m\u001b[1;33m(\u001b[0m\u001b[1;34m\"time\"\u001b[0m\u001b[1;33m)\u001b[0m\u001b[1;33m\u001b[0m\u001b[0m\n\u001b[0;32m     16\u001b[0m \u001b[0maxes\u001b[0m\u001b[1;33m.\u001b[0m\u001b[0mset_ylabel\u001b[0m\u001b[1;33m(\u001b[0m\u001b[1;34m\"PDF\"\u001b[0m\u001b[1;33m)\u001b[0m\u001b[1;33m\u001b[0m\u001b[0m\n",
        "\u001b[1;31mNameError\u001b[0m: name 'replace_asterisk_with_underscore' is not defined"
       ]
      },
      {
       "metadata": {},
       "output_type": "display_data",
       "png": "[encoded data removed]",
       "text": [
        "<matplotlib.figure.Figure at 0x11dc6b70>"
       ]
      }
     ],
     "prompt_number": 7
    },
    {
     "cell_type": "code",
     "collapsed": false,
     "input": [
      "print max(bar1[0])\n",
      "print bar1[1][0]\n",
      "print ant"
     ],
     "language": "python",
     "metadata": {},
     "outputs": []
    },
    {
     "cell_type": "markdown",
     "metadata": {},
     "source": [
      "# Reaction re-lebel\n",
      "* backward reaction labelled with labelling of forward reaction plus '*'"
     ]
    },
    {
     "cell_type": "code",
     "collapsed": false,
     "input": [
      "import re\n",
      "#reaction index re-label, backward reaction labelled with labelling of forward reaction plus '*'\n",
      "old_new_label={\"0\":\"0\", \"1\":\"0*\", \"2\":\"1\", \"3\":\"1*\", \"4\":\"2\", \"5\":\"2*\", \"6\":\"3\", \"7\":\"3*\", \"8\":\"4\", \"9\":\"4*\", \"10\":\"5\", \"11\":\"5*\"\\\n",
      "               , \"12\":\"6\", \"13\":\"6*\", \"14\":\"7\", \"15\":\"7*\", \"16\":\"8\", \"17\":\"8*\", \"18\":\"9\", \"19\":\"9*\", \"20\":\"10\", \"21\":\"10*\"\\\n",
      "               , \"22\":\"11\", \"23\":\"11*\", \"24\":\"12\", \"25\":\"12*\", \"26\":\"13\", \"27\":\"13*\", \"28\":\"14\", \"29\":\"14*\", \"30\":\"15\", \"31\":\"15*\"\\\n",
      "               , \"32\":\"16\", \"33\":\"16*\", \"34\":\"17\", \"35\":\"17*\", \"36\":\"19\", \"37\":\"19*\", \"38\":\"20\", \"39\":\"20*\", \"40\":\"21\", \"41\":\"21*\"\\\n",
      "               , \"42\":\"22\", \"43\":\"22*\", \"44\":\"23\", \"45\":\"23*\"}\n",
      "\n",
      "def dashrepl(matchobj):\n",
      "    return old_new_label[matchobj.group(0)]\n",
      "\n",
      "def re_label_index(in_str):\n",
      "    return re.sub(\"(?<=R)\\d+\", dashrepl, in_str)\n",
      "def replace_asterisk_with_underscore(in_str):\n",
      "    return in_str.replace(\"*\", \"_\")\n",
      "    \n",
      "print re_label_index(\"R2\")\n",
      "\n",
      "print re_label_index(top_100_pathway[1])\n",
      "print re_label_index(top_100_pathway[2])\n",
      "print re_label_index(top_100_pathway[3])\n",
      "print re_label_index(top_100_pathway[4])\n",
      "print re_label_index(top_100_pathway[5])\n",
      "print re_label_index(top_100_pathway[6])\n",
      "print re_label_index(top_100_pathway[7])\n",
      "print re_label_index(top_100_pathway[8])\n",
      "print re_label_index(top_100_pathway[9])\n",
      "print re_label_index(top_100_pathway[10])\n",
      "\n",
      "print replace_asterisk_with_underscore(re_label_index(top_100_pathway[1]))"
     ],
     "language": "python",
     "metadata": {},
     "outputs": []
    }
   ],
   "metadata": {}
  }
 ]
}