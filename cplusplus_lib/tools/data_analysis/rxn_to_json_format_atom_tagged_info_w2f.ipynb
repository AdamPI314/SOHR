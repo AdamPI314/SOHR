{
 "metadata": {
  "name": "",
  "signature": "sha256:bc2f679b1f1a28b676c3dd0e9a2aa0f631c1cd00d44525fc99514dbca6d7dc08"
 },
 "nbformat": 3,
 "nbformat_minor": 0,
 "worksheets": [
  {
   "cells": [
    {
     "cell_type": "code",
     "collapsed": false,
     "input": [
      "import re\n",
      "import numpy as np\n",
      "import pandas as pd\n",
      "import os\n",
      "import sys\n",
      "import parse_spe_reaction_info as psri"
     ],
     "language": "python",
     "metadata": {},
     "outputs": [],
     "prompt_number": 2
    },
    {
     "cell_type": "code",
     "collapsed": false,
     "input": [
      "file_dir= os.path.realpath(os.path.join(sys.argv[0], os.pardir, os.pardir, os.pardir))\n",
      "print file_dir"
     ],
     "language": "python",
     "metadata": {},
     "outputs": [
      {
       "output_type": "stream",
       "stream": "stdout",
       "text": [
        "/home/invictus/Documents/spring_2015_boulder/SRC_EXE_DIR/RxnNetwork_TDDM_alpha_16.1\n"
       ]
      }
     ],
     "prompt_number": 3
    },
    {
     "cell_type": "markdown",
     "metadata": {},
     "source": [
      "* parse species and reaction info"
     ]
    },
    {
     "cell_type": "code",
     "collapsed": false,
     "input": [
      "filename1= os.path.join(file_dir, \"output\", \"species_labelling.dat\")\n",
      "filename2= os.path.join(file_dir, \"output\", \"reaction_labelling.dat\")\n",
      "spe_ind_name_dict, spe_name_ind_dict= psri.parse_spe_info(filename1)\n",
      "old_new_index_dict, new_old_index_dict, new_ind_rxn_dict= psri.parse_rxn_and_its_index(filename2)"
     ],
     "language": "python",
     "metadata": {},
     "outputs": [],
     "prompt_number": 4
    },
    {
     "cell_type": "code",
     "collapsed": false,
     "input": [
      "print spe_ind_name_dict.values()[0:5]\n",
      "print spe_name_ind_dict.values()[0:5]\n",
      "print new_ind_rxn_dict.keys()[0:5]\n",
      "print new_ind_rxn_dict.values()[0:5]"
     ],
     "language": "python",
     "metadata": {},
     "outputs": [
      {
       "output_type": "stream",
       "stream": "stdout",
       "text": [
        "['C6H102OOH4-5', 'C7H14OOH1-4', 'C7H14OOH1-3', 'C7H15O-3', 'C7H15O-1']\n",
        "['5', '159', '39', '24', '158']\n",
        "['344', '345', '346', '347', '340']\n",
        "['C2H6+HO2=>C2H5+H2O2', 'C2H5+H2O2=>C2H6+HO2', 'C2H6+O2=>C2H5+HO2', 'C2H5+HO2=>C2H6+O2', 'C2H6+H=>C2H5+H2']\n"
       ]
      }
     ],
     "prompt_number": 11
    },
    {
     "cell_type": "code",
     "collapsed": false,
     "input": [],
     "language": "python",
     "metadata": {},
     "outputs": []
    }
   ],
   "metadata": {}
  }
 ]
}